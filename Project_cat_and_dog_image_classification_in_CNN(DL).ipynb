{
  "nbformat": 4,
  "nbformat_minor": 0,
  "metadata": {
    "colab": {
      "name": "Project-cat and dog image classification in CNN(DL)",
      "provenance": []
    },
    "kernelspec": {
      "name": "python3",
      "display_name": "Python 3"
    },
    "accelerator": "GPU"
  },
  "cells": [
    {
      "cell_type": "code",
      "metadata": {
        "id": "5nLYdrhlC04n"
      },
      "source": [
        "import numpy as np\n",
        "import pandas as pd\n",
        "import matplotlib.pyplot as plt\n",
        "import tensorflow as tf\n",
        "from tensorflow import keras"
      ],
      "execution_count": null,
      "outputs": []
    },
    {
      "cell_type": "code",
      "metadata": {
        "id": "In3HyX2aQH8N"
      },
      "source": [
        "import warnings\n",
        "warnings.filterwarnings('ignore')"
      ],
      "execution_count": null,
      "outputs": []
    },
    {
      "cell_type": "code",
      "metadata": {
        "colab": {
          "base_uri": "https://localhost:8080/"
        },
        "id": "V0d_Y8JoHLYs",
        "outputId": "0d81d2c3-777f-484b-e6f8-73adc34d7d5f"
      },
      "source": [
        "!unzip test_set.zip"
      ],
      "execution_count": null,
      "outputs": [
        {
          "output_type": "stream",
          "text": [
            "Archive:  test_set.zip\n",
            "replace test_set/cats/_DS_Store? [y]es, [n]o, [A]ll, [N]one, [r]ename: "
          ],
          "name": "stdout"
        }
      ]
    },
    {
      "cell_type": "code",
      "metadata": {
        "colab": {
          "base_uri": "https://localhost:8080/"
        },
        "id": "3JxYxwEfQgjQ",
        "outputId": "766f584a-5ebf-47e7-f929-ced7e5bd77e8"
      },
      "source": [
        "!unzip training_set.zip"
      ],
      "execution_count": null,
      "outputs": [
        {
          "output_type": "stream",
          "text": [
            "Archive:  training_set.zip\n",
            "replace training_set/cats/_DS_Store? [y]es, [n]o, [A]ll, [N]one, [r]ename: "
          ],
          "name": "stdout"
        }
      ]
    },
    {
      "cell_type": "code",
      "metadata": {
        "id": "6pNJmLYkHWLD"
      },
      "source": [
        "training_set='/content/training_set'\n",
        "validation_set='/content/test_set'"
      ],
      "execution_count": null,
      "outputs": []
    },
    {
      "cell_type": "code",
      "metadata": {
        "id": "IfThZMkMIRbG"
      },
      "source": [
        "from tensorflow.keras.preprocessing.image import ImageDataGenerator"
      ],
      "execution_count": null,
      "outputs": []
    },
    {
      "cell_type": "code",
      "metadata": {
        "colab": {
          "base_uri": "https://localhost:8080/"
        },
        "id": "6oT6azRlL7iU",
        "outputId": "721330d5-de12-4ac8-f002-811bc14f6920"
      },
      "source": [
        "train_datagen=ImageDataGenerator(rescale=1./255)\n",
        "test_datagen=ImageDataGenerator(rescale=1./255)\n",
        "\n",
        "train_data=train_datagen.flow_from_directory(\n",
        "        training_set,\n",
        "        target_size=(150,150),\n",
        "        batch_size=20,\n",
        "        class_mode='binary'\n",
        "          )\n",
        "\n",
        "valid_data=test_datagen.flow_from_directory(\n",
        "        validation_set,\n",
        "        target_size=(150,150),\n",
        "        batch_size=20,\n",
        "        class_mode='binary'\n",
        "          )"
      ],
      "execution_count": null,
      "outputs": [
        {
          "output_type": "stream",
          "text": [
            "Found 8005 images belonging to 2 classes.\n",
            "Found 2023 images belonging to 2 classes.\n"
          ],
          "name": "stdout"
        }
      ]
    },
    {
      "cell_type": "code",
      "metadata": {
        "id": "3SQctOHHS-st"
      },
      "source": [
        "from tensorflow.keras import layers\n",
        "from tensorflow.keras import models"
      ],
      "execution_count": null,
      "outputs": []
    },
    {
      "cell_type": "code",
      "metadata": {
        "id": "YWIloD--TMQr"
      },
      "source": [
        "# defining model architecture\n",
        "model=models.Sequential()\n",
        "\n",
        "model.add(layers.Conv2D(32,(3,3),activation='relu',input_shape=(150,150,3)))\n",
        "model.add(layers.MaxPool2D((2,2)))\n",
        "\n",
        "model.add(layers.Conv2D(64,(3,3),activation='relu',input_shape=(150,150,3)))\n",
        "model.add(layers.MaxPool2D((2,2)))\n",
        "\n",
        "model.add(layers.Conv2D(128,(3,3),activation='relu',input_shape=(150,150,3)))\n",
        "model.add(layers.MaxPool2D((2,2)))\n",
        "\n",
        "model.add(layers.Flatten())\n",
        "\n",
        "model.add(layers.Dense(256,kernel_initializer='he_normal',activation='relu'))\n",
        "model.add(layers.Dense(512,kernel_initializer='he_normal',activation='relu'))\n",
        "model.add(layers.Dense(1,activation='sigmoid'))"
      ],
      "execution_count": null,
      "outputs": []
    },
    {
      "cell_type": "code",
      "metadata": {
        "colab": {
          "base_uri": "https://localhost:8080/"
        },
        "id": "Q2sw6llrV2eY",
        "outputId": "27336044-d4b3-4d5f-cbb2-a21affc2f7e3"
      },
      "source": [
        "model.summary()"
      ],
      "execution_count": null,
      "outputs": [
        {
          "output_type": "stream",
          "text": [
            "Model: \"sequential_1\"\n",
            "_________________________________________________________________\n",
            "Layer (type)                 Output Shape              Param #   \n",
            "=================================================================\n",
            "conv2d_3 (Conv2D)            (None, 148, 148, 32)      896       \n",
            "_________________________________________________________________\n",
            "max_pooling2d_3 (MaxPooling2 (None, 74, 74, 32)        0         \n",
            "_________________________________________________________________\n",
            "conv2d_4 (Conv2D)            (None, 72, 72, 64)        18496     \n",
            "_________________________________________________________________\n",
            "max_pooling2d_4 (MaxPooling2 (None, 36, 36, 64)        0         \n",
            "_________________________________________________________________\n",
            "conv2d_5 (Conv2D)            (None, 34, 34, 128)       73856     \n",
            "_________________________________________________________________\n",
            "max_pooling2d_5 (MaxPooling2 (None, 17, 17, 128)       0         \n",
            "_________________________________________________________________\n",
            "flatten_1 (Flatten)          (None, 36992)             0         \n",
            "_________________________________________________________________\n",
            "dense_3 (Dense)              (None, 256)               9470208   \n",
            "_________________________________________________________________\n",
            "dense_4 (Dense)              (None, 512)               131584    \n",
            "_________________________________________________________________\n",
            "dense_5 (Dense)              (None, 1)                 513       \n",
            "=================================================================\n",
            "Total params: 9,695,553\n",
            "Trainable params: 9,695,553\n",
            "Non-trainable params: 0\n",
            "_________________________________________________________________\n"
          ],
          "name": "stdout"
        }
      ]
    },
    {
      "cell_type": "code",
      "metadata": {
        "id": "mZYOnlJcWBXp"
      },
      "source": [
        "from tensorflow.keras import optimizers"
      ],
      "execution_count": null,
      "outputs": []
    },
    {
      "cell_type": "code",
      "metadata": {
        "id": "so9AIhgOWcrU"
      },
      "source": [
        "model.compile(loss='binary_crossentropy',optimizer=optimizers.RMSprop(lr=1e-4),metrics=['accuracy'])"
      ],
      "execution_count": null,
      "outputs": []
    },
    {
      "cell_type": "code",
      "metadata": {
        "colab": {
          "base_uri": "https://localhost:8080/"
        },
        "id": "VlFYmCPnWuE2",
        "outputId": "260a8828-7fac-4aa7-f0de-12501891dea4"
      },
      "source": [
        "model_history=model.fit_generator(\n",
        "        train_data,\n",
        "        steps_per_epoch= 200,         # 2000 images = batch_size(20) * steps(100)\n",
        "        epochs=15,\n",
        "        validation_data=valid_data,\n",
        "        validation_steps=100,             # 1000 images = batch_size * steps               \n",
        "      )"
      ],
      "execution_count": null,
      "outputs": [
        {
          "output_type": "stream",
          "text": [
            "Epoch 1/15\n",
            "200/200 [==============================] - 18s 90ms/step - loss: 0.6118 - accuracy: 0.6587 - val_loss: 0.5753 - val_accuracy: 0.7130\n",
            "Epoch 2/15\n",
            "200/200 [==============================] - 17s 87ms/step - loss: 0.5644 - accuracy: 0.7117 - val_loss: 0.5485 - val_accuracy: 0.7300\n",
            "Epoch 3/15\n",
            "200/200 [==============================] - 18s 89ms/step - loss: 0.5282 - accuracy: 0.7375 - val_loss: 0.5419 - val_accuracy: 0.7235\n",
            "Epoch 4/15\n",
            "200/200 [==============================] - 17s 87ms/step - loss: 0.4892 - accuracy: 0.7607 - val_loss: 0.5325 - val_accuracy: 0.7350\n",
            "Epoch 5/15\n",
            "200/200 [==============================] - 17s 87ms/step - loss: 0.4534 - accuracy: 0.7875 - val_loss: 0.5156 - val_accuracy: 0.7485\n",
            "Epoch 6/15\n",
            "200/200 [==============================] - 18s 89ms/step - loss: 0.4348 - accuracy: 0.7980 - val_loss: 0.5111 - val_accuracy: 0.7550\n",
            "Epoch 7/15\n",
            "200/200 [==============================] - 18s 88ms/step - loss: 0.3889 - accuracy: 0.8270 - val_loss: 0.5083 - val_accuracy: 0.7620\n",
            "Epoch 8/15\n",
            "200/200 [==============================] - 18s 90ms/step - loss: 0.3735 - accuracy: 0.8410 - val_loss: 0.6414 - val_accuracy: 0.6940\n",
            "Epoch 9/15\n",
            "200/200 [==============================] - 18s 88ms/step - loss: 0.3515 - accuracy: 0.8429 - val_loss: 0.5177 - val_accuracy: 0.7610\n",
            "Epoch 10/15\n",
            "200/200 [==============================] - 18s 89ms/step - loss: 0.3253 - accuracy: 0.8587 - val_loss: 0.5047 - val_accuracy: 0.7730\n",
            "Epoch 11/15\n",
            "200/200 [==============================] - 18s 88ms/step - loss: 0.2969 - accuracy: 0.8725 - val_loss: 0.4912 - val_accuracy: 0.7915\n",
            "Epoch 12/15\n",
            "200/200 [==============================] - 18s 88ms/step - loss: 0.2698 - accuracy: 0.8903 - val_loss: 0.5631 - val_accuracy: 0.7670\n",
            "Epoch 13/15\n",
            "200/200 [==============================] - 18s 90ms/step - loss: 0.2443 - accuracy: 0.8945 - val_loss: 0.4860 - val_accuracy: 0.7905\n",
            "Epoch 14/15\n",
            "200/200 [==============================] - 18s 88ms/step - loss: 0.2250 - accuracy: 0.9125 - val_loss: 0.5214 - val_accuracy: 0.7915\n",
            "Epoch 15/15\n",
            "200/200 [==============================] - 18s 88ms/step - loss: 0.1880 - accuracy: 0.9283 - val_loss: 0.5479 - val_accuracy: 0.7860\n"
          ],
          "name": "stdout"
        }
      ]
    },
    {
      "cell_type": "code",
      "metadata": {
        "colab": {
          "base_uri": "https://localhost:8080/",
          "height": 324
        },
        "id": "SJHUWUwaW0JR",
        "outputId": "56b2f539-a874-45f3-94b0-21f4942c3cb9"
      },
      "source": [
        "pd.DataFrame(model_history.history).plot(figsize=(8,5))\n",
        "plt.grid(True)\n",
        "plt.gca().set_ylim(0,1)\n",
        "plt.show()"
      ],
      "execution_count": null,
      "outputs": [
        {
          "output_type": "display_data",
          "data": {
            "image/png": "[encoded data removed]",
            "text/plain": [
              "<Figure size 576x360 with 1 Axes>"
            ]
          },
          "metadata": {
            "tags": [],
            "needs_background": "light"
          }
        }
      ]
    },
    {
      "cell_type": "code",
      "metadata": {
        "id": "iTDgEpSZcwMp"
      },
      "source": [
        "# Checking the accuracy of the model\n",
        "acc=model_history.history['accuracy']"
      ],
      "execution_count": null,
      "outputs": []
    },
    {
      "cell_type": "code",
      "metadata": {
        "colab": {
          "base_uri": "https://localhost:8080/"
        },
        "id": "frqee4wTdVBN",
        "outputId": "c6850a33-326a-404f-d2b7-6769133e1cf9"
      },
      "source": [
        "acc[14]"
      ],
      "execution_count": null,
      "outputs": [
        {
          "output_type": "execute_result",
          "data": {
            "text/plain": [
              "0.9282500147819519"
            ]
          },
          "metadata": {
            "tags": []
          },
          "execution_count": 49
        }
      ]
    },
    {
      "cell_type": "code",
      "metadata": {
        "id": "U8HZ-SZBiwtB"
      },
      "source": [
        ""
      ],
      "execution_count": null,
      "outputs": []
    },
    {
      "cell_type": "markdown",
      "metadata": {
        "id": "N91KAUCViv7E"
      },
      "source": [
        "**Transfer Learning using VGG16**"
      ]
    },
    {
      "cell_type": "code",
      "metadata": {
        "id": "mLNxkWIEdhTJ"
      },
      "source": [
        "from keras.layers import Input,Lambda,Dense,Flatten\n",
        "from keras.models import Model\n",
        "from keras.applications.vgg16 import VGG16\n",
        "from keras.applications.vgg16 import preprocess_input\n",
        "from keras.preprocessing import image\n",
        "from keras.preprocessing.image import ImageDataGenerator\n",
        "from keras.models import Sequential\n",
        "import numpy as np\n",
        "from glob import glob\n",
        "import matplotlib.pyplot as plt"
      ],
      "execution_count": null,
      "outputs": []
    },
    {
      "cell_type": "code",
      "metadata": {
        "id": "BXUCsIc6g3zu"
      },
      "source": [
        "Image_size=[224,224]"
      ],
      "execution_count": null,
      "outputs": []
    },
    {
      "cell_type": "code",
      "metadata": {
        "colab": {
          "base_uri": "https://localhost:8080/"
        },
        "id": "jeXCOfYHg5vy",
        "outputId": "2ec6857e-851c-4e03-9909-2d7aa2f8909d"
      },
      "source": [
        "vgg=VGG16(input_shape=Image_size+[3],weights='imagenet',include_top=False)"
      ],
      "execution_count": null,
      "outputs": [
        {
          "output_type": "stream",
          "text": [
            "Downloading data from https://storage.googleapis.com/tensorflow/keras-applications/vgg16/vgg16_weights_tf_dim_ordering_tf_kernels_notop.h5\n",
            "58892288/58889256 [==============================] - 0s 0us/step\n"
          ],
          "name": "stdout"
        }
      ]
    },
    {
      "cell_type": "code",
      "metadata": {
        "id": "VC4dcHBRg7gp"
      },
      "source": [
        "# we don't train the  existing weihghts\n",
        "for layer in vgg.layers:\n",
        "  layer.trainable=False"
      ],
      "execution_count": null,
      "outputs": []
    },
    {
      "cell_type": "code",
      "metadata": {
        "id": "ERFrwGRBg9L2"
      },
      "source": [
        "folder=glob('/content/training_set/*')\n",
        "x=Flatten()(vgg.output)\n",
        "prediction=Dense(len(folder)-1,activation='sigmoid')(x) "
      ],
      "execution_count": null,
      "outputs": []
    },
    {
      "cell_type": "code",
      "metadata": {
        "colab": {
          "base_uri": "https://localhost:8080/"
        },
        "id": "9u_OdWFRhKKo",
        "outputId": "b10dedd8-79ba-446f-ae33-68c63910b922"
      },
      "source": [
        "model=Model(inputs=vgg.input,outputs=prediction)\n",
        "model.summary()"
      ],
      "execution_count": null,
      "outputs": [
        {
          "output_type": "stream",
          "text": [
            "Model: \"model_1\"\n",
            "_________________________________________________________________\n",
            "Layer (type)                 Output Shape              Param #   \n",
            "=================================================================\n",
            "input_1 (InputLayer)         [(None, 224, 224, 3)]     0         \n",
            "_________________________________________________________________\n",
            "block1_conv1 (Conv2D)        (None, 224, 224, 64)      1792      \n",
            "_________________________________________________________________\n",
            "block1_conv2 (Conv2D)        (None, 224, 224, 64)      36928     \n",
            "_________________________________________________________________\n",
            "block1_pool (MaxPooling2D)   (None, 112, 112, 64)      0         \n",
            "_________________________________________________________________\n",
            "block2_conv1 (Conv2D)        (None, 112, 112, 128)     73856     \n",
            "_________________________________________________________________\n",
            "block2_conv2 (Conv2D)        (None, 112, 112, 128)     147584    \n",
            "_________________________________________________________________\n",
            "block2_pool (MaxPooling2D)   (None, 56, 56, 128)       0         \n",
            "_________________________________________________________________\n",
            "block3_conv1 (Conv2D)        (None, 56, 56, 256)       295168    \n",
            "_________________________________________________________________\n",
            "block3_conv2 (Conv2D)        (None, 56, 56, 256)       590080    \n",
            "_________________________________________________________________\n",
            "block3_conv3 (Conv2D)        (None, 56, 56, 256)       590080    \n",
            "_________________________________________________________________\n",
            "block3_pool (MaxPooling2D)   (None, 28, 28, 256)       0         \n",
            "_________________________________________________________________\n",
            "block4_conv1 (Conv2D)        (None, 28, 28, 512)       1180160   \n",
            "_________________________________________________________________\n",
            "block4_conv2 (Conv2D)        (None, 28, 28, 512)       2359808   \n",
            "_________________________________________________________________\n",
            "block4_conv3 (Conv2D)        (None, 28, 28, 512)       2359808   \n",
            "_________________________________________________________________\n",
            "block4_pool (MaxPooling2D)   (None, 14, 14, 512)       0         \n",
            "_________________________________________________________________\n",
            "block5_conv1 (Conv2D)        (None, 14, 14, 512)       2359808   \n",
            "_________________________________________________________________\n",
            "block5_conv2 (Conv2D)        (None, 14, 14, 512)       2359808   \n",
            "_________________________________________________________________\n",
            "block5_conv3 (Conv2D)        (None, 14, 14, 512)       2359808   \n",
            "_________________________________________________________________\n",
            "block5_pool (MaxPooling2D)   (None, 7, 7, 512)         0         \n",
            "_________________________________________________________________\n",
            "flatten_5 (Flatten)          (None, 25088)             0         \n",
            "_________________________________________________________________\n",
            "dense_9 (Dense)              (None, 1)                 25089     \n",
            "=================================================================\n",
            "Total params: 14,739,777\n",
            "Trainable params: 25,089\n",
            "Non-trainable params: 14,714,688\n",
            "_________________________________________________________________\n"
          ],
          "name": "stdout"
        }
      ]
    },
    {
      "cell_type": "code",
      "metadata": {
        "id": "PhcmbfCshWgA"
      },
      "source": [
        "model.compile(\n",
        "    loss='binary_crossentropy',\n",
        "    optimizer='adam',\n",
        "    metrics=['accuracy']\n",
        "              )"
      ],
      "execution_count": null,
      "outputs": []
    },
    {
      "cell_type": "code",
      "metadata": {
        "colab": {
          "base_uri": "https://localhost:8080/"
        },
        "id": "5_oa5AbJhobT",
        "outputId": "256cf097-c64f-48c9-d886-d5554d42a4ea"
      },
      "source": [
        "from keras.preprocessing.image import ImageDataGenerator\n",
        "train_datagen=ImageDataGenerator(rescale=1./255)\n",
        "test_datagen=ImageDataGenerator(rescale=1./255)\n",
        "\n",
        "train_data=train_datagen.flow_from_directory(\n",
        "        training_set,\n",
        "        target_size=(224,224),\n",
        "        batch_size=20,\n",
        "        class_mode='binary'\n",
        "          )\n",
        "\n",
        "valid_data=test_datagen.flow_from_directory(\n",
        "        validation_set,\n",
        "        target_size=(224,224),\n",
        "        batch_size=20,\n",
        "        class_mode='binary'\n",
        "          )"
      ],
      "execution_count": null,
      "outputs": [
        {
          "output_type": "stream",
          "text": [
            "Found 8005 images belonging to 2 classes.\n",
            "Found 2023 images belonging to 2 classes.\n"
          ],
          "name": "stdout"
        }
      ]
    },
    {
      "cell_type": "code",
      "metadata": {
        "colab": {
          "base_uri": "https://localhost:8080/"
        },
        "id": "KxBfbSlfiKzy",
        "outputId": "fd7819f5-ebfa-473b-e00f-928c27148826"
      },
      "source": [
        "model_history=model.fit_generator(\n",
        "        train_data,\n",
        "        steps_per_epoch= 200,         # 2000 images = batch_size(20) * steps(100)\n",
        "        epochs=15,\n",
        "        validation_data=valid_data,\n",
        "        validation_steps=100,             # 1000 images = batch_size * steps               \n",
        "      )"
      ],
      "execution_count": null,
      "outputs": [
        {
          "output_type": "stream",
          "text": [
            "Epoch 1/15\n",
            "200/200 [==============================] - 31s 148ms/step - loss: 0.4101 - accuracy: 0.7927 - val_loss: 0.2217 - val_accuracy: 0.9085\n",
            "Epoch 2/15\n",
            "200/200 [==============================] - 31s 154ms/step - loss: 0.1905 - accuracy: 0.9183 - val_loss: 0.1920 - val_accuracy: 0.9195\n",
            "Epoch 3/15\n",
            "200/200 [==============================] - 33s 164ms/step - loss: 0.1575 - accuracy: 0.9369 - val_loss: 0.3432 - val_accuracy: 0.8630\n",
            "Epoch 4/15\n",
            "200/200 [==============================] - 32s 162ms/step - loss: 0.1488 - accuracy: 0.9435 - val_loss: 0.1922 - val_accuracy: 0.9220\n",
            "Epoch 5/15\n",
            "200/200 [==============================] - 32s 160ms/step - loss: 0.1095 - accuracy: 0.9616 - val_loss: 0.1974 - val_accuracy: 0.9215\n",
            "Epoch 6/15\n",
            "200/200 [==============================] - 32s 161ms/step - loss: 0.0778 - accuracy: 0.9757 - val_loss: 0.1918 - val_accuracy: 0.9220\n",
            "Epoch 7/15\n",
            "200/200 [==============================] - 32s 160ms/step - loss: 0.0756 - accuracy: 0.9710 - val_loss: 0.1936 - val_accuracy: 0.9240\n",
            "Epoch 8/15\n",
            "200/200 [==============================] - 32s 161ms/step - loss: 0.0668 - accuracy: 0.9817 - val_loss: 0.2142 - val_accuracy: 0.9240\n",
            "Epoch 9/15\n",
            "200/200 [==============================] - 32s 161ms/step - loss: 0.0557 - accuracy: 0.9847 - val_loss: 0.2333 - val_accuracy: 0.9085\n",
            "Epoch 10/15\n",
            "200/200 [==============================] - 32s 160ms/step - loss: 0.0423 - accuracy: 0.9892 - val_loss: 0.1980 - val_accuracy: 0.9250\n",
            "Epoch 11/15\n",
            "200/200 [==============================] - 32s 160ms/step - loss: 0.0314 - accuracy: 0.9944 - val_loss: 0.2562 - val_accuracy: 0.9115\n",
            "Epoch 12/15\n",
            "200/200 [==============================] - 32s 160ms/step - loss: 0.0353 - accuracy: 0.9900 - val_loss: 0.2072 - val_accuracy: 0.9245\n",
            "Epoch 13/15\n",
            "200/200 [==============================] - 32s 160ms/step - loss: 0.0316 - accuracy: 0.9940 - val_loss: 0.2169 - val_accuracy: 0.9220\n",
            "Epoch 14/15\n",
            "200/200 [==============================] - 32s 161ms/step - loss: 0.0207 - accuracy: 0.9970 - val_loss: 0.2065 - val_accuracy: 0.9245\n",
            "Epoch 15/15\n",
            "200/200 [==============================] - 32s 161ms/step - loss: 0.0175 - accuracy: 0.9997 - val_loss: 0.2091 - val_accuracy: 0.9250\n"
          ],
          "name": "stdout"
        }
      ]
    },
    {
      "cell_type": "code",
      "metadata": {
        "colab": {
          "base_uri": "https://localhost:8080/",
          "height": 324
        },
        "id": "aff006lxiN-d",
        "outputId": "7ce8654f-7e37-4d05-92d3-1b6951a3d3bb"
      },
      "source": [
        "import pandas as pd\n",
        "pd.DataFrame(model_history.history).plot(figsize=(8,5))\n",
        "plt.grid(True)\n",
        "plt.gca().set_ylim(0,1)\n",
        "plt.show()"
      ],
      "execution_count": null,
      "outputs": [
        {
          "output_type": "display_data",
          "data": {
            "image/png": "[encoded data removed]",
            "text/plain": [
              "<Figure size 576x360 with 1 Axes>"
            ]
          },
          "metadata": {
            "tags": [],
            "needs_background": "light"
          }
        }
      ]
    },
    {
      "cell_type": "code",
      "metadata": {
        "colab": {
          "base_uri": "https://localhost:8080/"
        },
        "id": "Z9-8GxKaklAX",
        "outputId": "681b3476-e8ae-4bb0-aad6-c7d8b2d6fb25"
      },
      "source": [
        "# Checking the accuracy of the model\n",
        "acc=model_history.history['accuracy']\n",
        "acc[14]"
      ],
      "execution_count": null,
      "outputs": [
        {
          "output_type": "execute_result",
          "data": {
            "text/plain": [
              "0.9990000128746033"
            ]
          },
          "metadata": {
            "tags": []
          },
          "execution_count": 70
        }
      ]
    },
    {
      "cell_type": "code",
      "metadata": {
        "id": "_qZk5-ygk2y9"
      },
      "source": [
        ""
      ],
      "execution_count": null,
      "outputs": []
    }
  ]
}